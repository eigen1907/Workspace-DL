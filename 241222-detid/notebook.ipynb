{
 "cells": [
  {
   "cell_type": "code",
   "execution_count": null,
   "metadata": {},
   "outputs": [],
   "source": [
    "import os\n",
    "import glob\n",
    "import numpy as np\n",
    "import pandas as pd\n",
    "import joblib\n",
    "from sklearn.preprocessing import MultiLabelBinarizer, StandardScaler\n",
    "from sklearn.model_selection import train_test_split\n",
    "from xgboost import XGBClassifier\n",
    "\n",
    "\n",
    "def load_data(file_paths, track_scaler, detid_encoder):\n",
    "    df_list = [pd.read_csv(file_path) for file_path in file_paths]\n",
    "    df = pd.concat(df_list, ignore_index=True)\n",
    "    df['det_raw_id'] = df['det_raw_id'].apply(lambda x: list(map(int, x.split(' ')[:-1])))\n",
    "\n",
    "    X = track_scaler.transform(df[['track_pt', 'track_eta', 'track_phi']].values)\n",
    "    Y = detid_encoder.transform(df['det_raw_id'])\n",
    "    return X, Y"
   ]
  },
  {
   "cell_type": "code",
   "execution_count": 2,
   "metadata": {},
   "outputs": [],
   "source": [
    "data_dir = '/eos/user/j/joshin/TrackDetMatchmaker/TrackDetMatches'\n",
    "detid_table_path = '/afs/cern.ch/user/j/joshin/public/TrackDetMatchmaker/CMSSW_14_2_0/src/TrackDetMatchmaker/Detector/test/det_raw_id.csv'"
   ]
  },
  {
   "cell_type": "code",
   "execution_count": 32,
   "metadata": {},
   "outputs": [
    {
     "name": "stdout",
     "output_type": "stream",
     "text": [
      "?\n"
     ]
    }
   ],
   "source": [
    "track_paths = sorted(glob.glob(os.path.join(data_dir, '*.csv')))\n",
    "n_files = 1000\n",
    "sample_paths = track_paths[:n_files]\n",
    "\n",
    "df_list = [pd.read_csv(p) for p in sample_paths]\n",
    "df_sample = pd.concat(df_list, ignore_index=True)\n",
    "df_sample['det_raw_id'] = df_sample['det_raw_id'].apply(lambda x: list(map(int, x.split(' ')[:-1])))\n",
    "\n",
    "detid_table_df = pd.read_csv(detid_table_path)\n",
    "detid_table = np.sort(detid_table_df['det_raw_id'].unique())\n",
    "\n",
    "detid_encoder = MultiLabelBinarizer(classes=detid_table)\n",
    "detid_encoder.fit(df_sample['det_raw_id'])\n",
    "\n",
    "track_scaler = StandardScaler()\n",
    "track_scaler.fit(df_sample[['track_pt', 'track_eta', 'track_phi']].values)"
   ]
  },
  {
   "cell_type": "code",
   "execution_count": 35,
   "metadata": {},
   "outputs": [],
   "source": [
    "from itertools import chain\n",
    "det_raw_ids = np.unique(np.sort(np.array(list(chain.from_iterable(list(df_sample['det_raw_id'].values))))))"
   ]
  },
  {
   "cell_type": "code",
   "execution_count": 39,
   "metadata": {},
   "outputs": [
    {
     "name": "stdout",
     "output_type": "stream",
     "text": [
      "[574914560 574922752 574923776 ... 696274752 696275264 696291138] 13168\n",
      "[574914560 574947328 574980096 ... 687907362 687907616 687907618] 3761\n",
      "[ True False False ... False False False]\n",
      "13168\n"
     ]
    }
   ],
   "source": [
    "print(detid_table, len(detid_table))\n",
    "\n",
    "print(det_raw_ids, len(det_raw_ids))\n",
    "\n",
    "print(np.in1d(detid_table, det_raw_ids), len(np.in1d(detid_table, det_raw_ids)))"
   ]
  },
  {
   "cell_type": "code",
   "execution_count": 43,
   "metadata": {},
   "outputs": [],
   "source": [
    "detid_table_df['det_raw_id_match'] = np.in1d(detid_table, det_raw_ids)\n",
    "detid_table_df.to_csv('/afs/cern.ch/user/j/joshin/public/TrackDetMatchmaker/CMSSW_14_2_0/src/TrackDetMatchmaker/Detector/test/det_raw_id_match.csv', index=False)"
   ]
  },
  {
   "cell_type": "code",
   "execution_count": 45,
   "metadata": {},
   "outputs": [],
   "source": [
    "matched_det_table_df = detid_table_df[detid_table_df['det_raw_id_match']]\n",
    "\n",
    "matched_det_table_df.to_csv('/afs/cern.ch/user/j/joshin/public/TrackDetMatchmaker/CMSSW_14_2_0/src/TrackDetMatchmaker/Detector/test/matched_det_raw_id.csv', index=False)"
   ]
  }
 ],
 "metadata": {
  "kernelspec": {
   "display_name": "Python 3",
   "language": "python",
   "name": "python3"
  },
  "language_info": {
   "codemirror_mode": {
    "name": "ipython",
    "version": 3
   },
   "file_extension": ".py",
   "mimetype": "text/x-python",
   "name": "python",
   "nbconvert_exporter": "python",
   "pygments_lexer": "ipython3",
   "version": "3.10.16"
  }
 },
 "nbformat": 4,
 "nbformat_minor": 2
}
