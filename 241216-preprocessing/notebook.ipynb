{
 "cells": [
  {
   "cell_type": "code",
   "execution_count": 91,
   "metadata": {},
   "outputs": [],
   "source": [
    "import pandas as pd\n",
    "import numpy as np\n",
    "import glob\n",
    "\n",
    "from sklearn.preprocessing import MultiLabelBinarizer\n",
    "from sklearn.preprocessing import StandardScaler\n",
    "from sklearn.model_selection import train_test_split\n",
    "from sklearn.metrics import accuracy_score\n",
    "\n",
    "from xgboost import XGBRegressor"
   ]
  },
  {
   "cell_type": "code",
   "execution_count": 68,
   "metadata": {},
   "outputs": [],
   "source": [
    "det_raw_ids_df = pd.read_csv(\"/users/hep/eigen1907/Workspace/Workspace-DL/241215-track_det_raw_id/muon_system_det_raw_id.csv\")\n",
    "det_raw_ids = np.sort(det_ids_df['det_raw_id'].unique())\n",
    "\n",
    "track_files = glob.glob(\"/users/hep/eigen1907/Workspace/Workspace-DL/241215-track_det_raw_id/TrackDetMatchesSample/output_*.csv\")\n",
    "tracks_df_list = []\n",
    "for f in track_files:\n",
    "    df_temp = pd.read_csv(f)\n",
    "    tracks_df_list.append(df_temp)\n",
    "tracks_df = pd.concat(tracks_df_list, ignore_index=True)\n",
    "tracks_df['det_raw_id'] = tracks_df['det_raw_id'].apply(lambda x: list(map(int, x.split(' ')[:-1])))\n",
    "\n",
    "mlb = MultiLabelBinarizer(classes=det_raw_ids)\n",
    "track_det_matches = mlb.fit_transform(tracks_df['det_raw_id'])"
   ]
  },
  {
   "cell_type": "code",
   "execution_count": 84,
   "metadata": {},
   "outputs": [
    {
     "name": "stdout",
     "output_type": "stream",
     "text": [
      "(7808, 3)\n",
      "(7808, 13168)\n",
      "X_train shape: (6246, 3)\n",
      "Y_train shape: (6246, 13168)\n"
     ]
    }
   ],
   "source": [
    "scaler = StandardScaler()\n",
    "\n",
    "X = tracks_df[['track_pt', 'track_eta', 'track_phi']].values\n",
    "X_scaled = scaler.fit_transform(X)\n",
    "\n",
    "Y = track_det_matches\n",
    "\n",
    "print(X_scaled.shape)\n",
    "print(Y.shape)\n",
    "\n",
    "X_train, X_test, Y_train, Y_test = train_test_split(X_scaled, Y, test_size=0.2, random_state=42)\n",
    "print(\"X_train shape:\", X_train.shape)\n",
    "print(\"Y_train shape:\", Y_train.shape)"
   ]
  },
  {
   "cell_type": "code",
   "execution_count": 92,
   "metadata": {},
   "outputs": [
    {
     "name": "stdout",
     "output_type": "stream",
     "text": [
      "Mean accuracy across all labels: 0.9998\n"
     ]
    }
   ],
   "source": [
    "X_train, X_test, Y_train, Y_test = train_test_split(X, Y, test_size=0.2, random_state=42)\n",
    "\n",
    "\n",
    "model = XGBRegressor(n_estimators=100, max_depth=6, learning_rate=0.1, random_state=42)\n",
    "model.fit(X_train, Y_train)\n",
    "Y_pred_reg = model.predict(X_test)"
   ]
  },
  {
   "cell_type": "code",
   "execution_count": 124,
   "metadata": {},
   "outputs": [
    {
     "name": "stdout",
     "output_type": "stream",
     "text": [
      "Mean accuracy across all labels: 0.9989\n"
     ]
    }
   ],
   "source": [
    "Y_pred = (Y_pred_reg > 0.001).astype(int)\n",
    "\n",
    "accuracies = []\n",
    "for i in range(Y_test.shape[1]):\n",
    "    acc = accuracy_score(Y_test[:, i], Y_pred[:, i])\n",
    "    accuracies.append(acc)\n",
    "\n",
    "print(f\"Mean accuracy across all labels: {np.mean(accuracies):.4f}\")"
   ]
  },
  {
   "cell_type": "code",
   "execution_count": 125,
   "metadata": {},
   "outputs": [
    {
     "name": "stdout",
     "output_type": "stream",
     "text": [
      "(array([  400,  1360,  2320,  9178,  9187,  9312,  9382,  9594, 10194,\n",
      "       10196, 10878, 11082, 11288]),)\n",
      "(array([  400,  1360,  2320,  9178,  9187,  9382, 10196, 11288]),)\n"
     ]
    }
   ],
   "source": [
    "print(np.where(Y_pred[6] == 1))\n",
    "print(np.where(Y_test[6] == 1))"
   ]
  }
 ],
 "metadata": {
  "kernelspec": {
   "display_name": "Python 3",
   "language": "python",
   "name": "python3"
  },
  "language_info": {
   "codemirror_mode": {
    "name": "ipython",
    "version": 3
   },
   "file_extension": ".py",
   "mimetype": "text/x-python",
   "name": "python",
   "nbconvert_exporter": "python",
   "pygments_lexer": "ipython3",
   "version": "3.10.16"
  }
 },
 "nbformat": 4,
 "nbformat_minor": 2
}
