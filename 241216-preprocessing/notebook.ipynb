{
 "cells": [
  {
   "cell_type": "code",
   "execution_count": 1,
   "metadata": {},
   "outputs": [],
   "source": [
    "import pandas as pd\n",
    "import numpy as np\n",
    "import glob\n",
    "\n",
    "from sklearn.preprocessing import MultiLabelBinarizer\n",
    "from sklearn.preprocessing import StandardScaler\n",
    "from sklearn.model_selection import train_test_split\n",
    "from sklearn.metrics import accuracy_score\n",
    "\n",
    "from xgboost import XGBRegressor"
   ]
  },
  {
   "cell_type": "code",
   "execution_count": 2,
   "metadata": {},
   "outputs": [],
   "source": [
    "det_raw_ids_df = pd.read_csv(\"/users/hep/eigen1907/Workspace/Workspace-DL/241215-track_det_raw_id/muon_system_det_raw_id.csv\")\n",
    "det_raw_ids = np.sort(det_raw_ids_df['det_raw_id'].unique())\n",
    "\n",
    "track_files = glob.glob(\"/users/hep/eigen1907/Workspace/Workspace-DL/241215-track_det_raw_id/TrackDetMatchesSample/output_*.csv\")\n",
    "tracks_df_list = []\n",
    "for f in track_files:\n",
    "    df_temp = pd.read_csv(f)\n",
    "    tracks_df_list.append(df_temp)\n",
    "tracks_df = pd.concat(tracks_df_list, ignore_index=True)\n",
    "tracks_df['det_raw_id'] = tracks_df['det_raw_id'].apply(lambda x: list(map(int, x.split(' ')[:-1])))\n",
    "\n",
    "mlb = MultiLabelBinarizer(classes=det_raw_ids)\n",
    "track_det_matches = mlb.fit_transform(tracks_df['det_raw_id'])\n",
    "\n"
   ]
  },
  {
   "cell_type": "code",
   "execution_count": null,
   "metadata": {},
   "outputs": [],
   "source": [
    "scaler = StandardScaler()\n",
    "\n",
    "X = tracks_df[['track_pt', 'track_eta', 'track_phi']].values\n",
    "X_scaled = scaler.fit_transform(X)\n",
    "\n",
    "Y = track_det_matches\n",
    "\n",
    "print(X_scaled.shape)\n",
    "print(Y.shape)\n",
    "\n",
    "X_train, X_test, Y_train, Y_test = train_test_split(X_scaled, Y, test_size=0.2, random_state=42)\n",
    "print(\"X_train shape:\", X_train.shape)\n",
    "print(\"Y_train shape:\", Y_train.shape)"
   ]
  },
  {
   "cell_type": "code",
   "execution_count": null,
   "metadata": {},
   "outputs": [],
   "source": [
    "X_train, X_test, Y_train, Y_test = train_test_split(X, Y, test_size=0.2, random_state=42)\n",
    "\n",
    "\n",
    "model = XGBRegressor(n_estimators=100, max_depth=6, learning_rate=0.1, random_state=42)\n",
    "model.fit(X_train, Y_train, eval_set=[(X_test, Y_test)], verbose=True)"
   ]
  },
  {
   "cell_type": "code",
   "execution_count": null,
   "metadata": {},
   "outputs": [],
   "source": [
    "Y_pred_reg = model.predict(X_test)\n",
    "Y_pred = (Y_pred_reg > 0.1).astype(int)\n",
    "\n",
    "accuracies = []\n",
    "for i in range(Y_test.shape[1]):\n",
    "    acc = accuracy_score(Y_test[:, i], Y_pred[:, i])\n",
    "    accuracies.append(acc)\n",
    "\n",
    "print(f\"Mean accuracy across all labels: {np.mean(accuracies):.4f}\")"
   ]
  }
 ],
 "metadata": {
  "kernelspec": {
   "display_name": "Python 3",
   "language": "python",
   "name": "python3"
  },
  "language_info": {
   "codemirror_mode": {
    "name": "ipython",
    "version": 3
   },
   "file_extension": ".py",
   "mimetype": "text/x-python",
   "name": "python",
   "nbconvert_exporter": "python",
   "pygments_lexer": "ipython3",
   "version": "3.10.16"
  }
 },
 "nbformat": 4,
 "nbformat_minor": 2
}
