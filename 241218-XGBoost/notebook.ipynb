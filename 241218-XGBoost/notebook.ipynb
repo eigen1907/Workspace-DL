{
 "cells": [
  {
   "cell_type": "code",
   "execution_count": 4,
   "metadata": {},
   "outputs": [],
   "source": [
    "import os\n",
    "import glob\n",
    "import numpy as np\n",
    "import pandas as pd\n",
    "import joblib\n",
    "from sklearn.preprocessing import MultiLabelBinarizer, StandardScaler\n",
    "from sklearn.model_selection import train_test_split\n",
    "from xgboost import XGBClassifier\n",
    "\n",
    "\n",
    "def load_data(file_paths, track_scaler, detid_encoder):\n",
    "    df_list = [pd.read_csv(file_path) for file_path in file_paths]\n",
    "    df = pd.concat(df_list, ignore_index=True)\n",
    "    df['det_raw_id'] = df['det_raw_id'].apply(lambda x: list(map(int, x.split(' ')[:-1])))\n",
    "\n",
    "    X = track_scaler.transform(df[['track_pt', 'track_eta', 'track_phi']].values)\n",
    "    Y = detid_encoder.transform(df['det_raw_id'])\n",
    "    return X, Y\n"
   ]
  },
  {
   "cell_type": "code",
   "execution_count": 6,
   "metadata": {},
   "outputs": [],
   "source": [
    "data_dir = '/users/hep/eigen1907/Workspace/Workspace-DL/241215-track_det_raw_id/TrackDetMatches'\n",
    "detid_table_path = '/users/hep/eigen1907/Workspace/Workspace-DL/241215-track_det_raw_id/muon_system_det_raw_id.csv'\n",
    "input_model_dir = '/users/hep/eigen1907/Workspace/Workspace-DL/241218-XGBoost/model/241218-init-file300-e100-d3'\n",
    "\n",
    "\n",
    "\n",
    "model = XGBClassifier()\n",
    "model.load_model(os.path.join(input_model_dir, 'model.json'))\n",
    "track_scaler = joblib.load(os.path.join(input_model_dir, 'scaler.pkl'))\n",
    "detid_encoder = joblib.load(os.path.join(input_model_dir, 'encoder.pkl'))\n",
    "track_paths = sorted(glob.glob(os.path.join(data_dir, '*.csv')))\n",
    "eval_paths = track_paths[-3:]\n",
    "\n",
    "X_eval, Y_eval = load_data(eval_paths, track_scaler, detid_encoder)\n",
    "\n",
    "preds = model.predict(X_eval)\n",
    "accuracy = (preds == Y_eval).mean()"
   ]
  },
  {
   "cell_type": "code",
   "execution_count": 36,
   "metadata": {},
   "outputs": [
    {
     "name": "stdout",
     "output_type": "stream",
     "text": [
      "0.9998972728937358\n"
     ]
    }
   ],
   "source": [
    "print(accuracy)"
   ]
  },
  {
   "cell_type": "code",
   "execution_count": 42,
   "metadata": {},
   "outputs": [
    {
     "name": "stdout",
     "output_type": "stream",
     "text": [
      "(array([ 6408,  6415,  7038,  7045,  7416,  7423,  7794,  7801,  9902,\n",
      "        9998, 10534, 10630, 11586, 11590, 11600, 11682, 11686, 11696]),)\n",
      "(array([ 6422,  7052,  7430,  7808,  9120, 10111, 10115, 10798, 10827]),)\n"
     ]
    }
   ],
   "source": [
    "print(np.where(Y_eval[2] == 1))\n",
    "print(np.where(preds[2] == 1))"
   ]
  },
  {
   "cell_type": "code",
   "execution_count": 51,
   "metadata": {},
   "outputs": [
    {
     "name": "stdout",
     "output_type": "stream",
     "text": [
      "(5866, 13168)\n",
      "(5866, 13168)\n",
      "25\n",
      "0.605182407091715\n",
      "[False False False ... False False False]\n",
      "\n",
      "(array([ 5932,  6184,  6870,  7248,  7626, 11861, 11863, 11934, 11936]),)\n",
      "[ 9  9 18 ... 10  8  9]\n",
      "\n"
     ]
    }
   ],
   "source": [
    "print(Y_eval.shape)\n",
    "print(preds.shape)\n",
    "\n",
    "print((Y_eval != 0).sum(axis=1).max())\n",
    "print((preds < Y_eval).sum(axis=1).mean())\n",
    "print((preds > Y_eval)[0])\n",
    "print(np.where(Y_eval[0] == 1))\n",
    "print((Y_eval == 1).sum(axis=1))\n",
    "\n"
   ]
  },
  {
   "cell_type": "code",
   "execution_count": 34,
   "metadata": {},
   "outputs": [
    {
     "name": "stdout",
     "output_type": "stream",
     "text": [
      "[ 9  9 18 ... 10  8  9]\n",
      "[9 9 9 ... 8 9 9]\n",
      "[ 0  0 27 ...  2  1  0]\n"
     ]
    }
   ],
   "source": [
    "matched_chamber_count = (Y_eval == 1).sum(axis=1)\n",
    "pred_matched_chamber_count = (preds == 1).sum(axis=1)\n",
    "\n",
    "wrong_count = (preds != Y_eval).sum(axis=1)\n",
    "\n",
    "print(matched_chamber_count)\n",
    "print(pred_matched_chamber_count)\n",
    "print(wrong_count)"
   ]
  }
 ],
 "metadata": {
  "kernelspec": {
   "display_name": "Python 3",
   "language": "python",
   "name": "python3"
  },
  "language_info": {
   "codemirror_mode": {
    "name": "ipython",
    "version": 3
   },
   "file_extension": ".py",
   "mimetype": "text/x-python",
   "name": "python",
   "nbconvert_exporter": "python",
   "pygments_lexer": "ipython3",
   "version": "3.10.16"
  }
 },
 "nbformat": 4,
 "nbformat_minor": 2
}
